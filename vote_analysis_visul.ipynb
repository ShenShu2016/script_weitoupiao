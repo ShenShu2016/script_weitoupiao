{
 "cells": [
  {
   "cell_type": "markdown",
   "id": "710da937",
   "metadata": {},
   "source": [
    "# Author Shen Shu\n",
    ">Website: https://shushengacademy.com/"
   ]
  },
  {
   "cell_type": "code",
   "execution_count": 24,
   "id": "275fd873",
   "metadata": {},
   "outputs": [],
   "source": [
    "import pandas as pd\n",
    "from pyecharts import options as opts\n",
    "from pyecharts.charts import Pie"
   ]
  },
  {
   "cell_type": "code",
   "execution_count": 2,
   "id": "da5a483c",
   "metadata": {},
   "outputs": [],
   "source": [
    "df=pd.read_excel(\"臭臭_total.xlsx\",converters={'投票用户':str})"
   ]
  },
  {
   "cell_type": "code",
   "execution_count": 3,
   "id": "82aa5783",
   "metadata": {},
   "outputs": [
    {
     "name": "stdout",
     "output_type": "stream",
     "text": [
      "<class 'pandas.core.frame.DataFrame'>\n",
      "RangeIndex: 5450 entries, 0 to 5449\n",
      "Data columns (total 5 columns):\n",
      " #   Column  Non-Null Count  Dtype         \n",
      "---  ------  --------------  -----         \n",
      " 0   时间      5450 non-null   datetime64[ns]\n",
      " 1   投票用户    5450 non-null   object        \n",
      " 2   地区      5450 non-null   object        \n",
      " 3   IP      5450 non-null   object        \n",
      " 4   设备      5450 non-null   object        \n",
      "dtypes: datetime64[ns](1), object(4)\n",
      "memory usage: 213.0+ KB\n"
     ]
    }
   ],
   "source": [
    "df.info()"
   ]
  },
  {
   "cell_type": "code",
   "execution_count": 5,
   "id": "d75ab465",
   "metadata": {},
   "outputs": [],
   "source": [
    "地理位置=[]\n",
    "电信公司=[]\n",
    "def ge_address_company(x):\n",
    "    slash_index=int(x.find('-'))\n",
    "    地理位置.append(x[0:slash_index])\n",
    "    电信公司.append(x[slash_index+1:])"
   ]
  },
  {
   "cell_type": "code",
   "execution_count": 6,
   "id": "68c11a97",
   "metadata": {},
   "outputs": [],
   "source": [
    "df['地区'].map(lambda x :ge_address_company(x));"
   ]
  },
  {
   "cell_type": "code",
   "execution_count": 7,
   "id": "2f4e56ff",
   "metadata": {},
   "outputs": [],
   "source": [
    "df['电信公司']=电信公司"
   ]
  },
  {
   "cell_type": "code",
   "execution_count": 8,
   "id": "0424103d",
   "metadata": {},
   "outputs": [],
   "source": [
    "df['地理位置']=地理位置"
   ]
  },
  {
   "cell_type": "code",
   "execution_count": null,
   "id": "ad48da68",
   "metadata": {},
   "outputs": [],
   "source": [
    "df.drop(columns['地区'])"
   ]
  },
  {
   "cell_type": "code",
   "execution_count": 4,
   "id": "a0eaff69",
   "metadata": {},
   "outputs": [
    {
     "data": {
      "text/html": [
       "<div>\n",
       "<style scoped>\n",
       "    .dataframe tbody tr th:only-of-type {\n",
       "        vertical-align: middle;\n",
       "    }\n",
       "\n",
       "    .dataframe tbody tr th {\n",
       "        vertical-align: top;\n",
       "    }\n",
       "\n",
       "    .dataframe thead th {\n",
       "        text-align: right;\n",
       "    }\n",
       "</style>\n",
       "<table border=\"1\" class=\"dataframe\">\n",
       "  <thead>\n",
       "    <tr style=\"text-align: right;\">\n",
       "      <th></th>\n",
       "      <th>时间</th>\n",
       "      <th>投票用户</th>\n",
       "      <th>地区</th>\n",
       "      <th>IP</th>\n",
       "      <th>设备</th>\n",
       "    </tr>\n",
       "  </thead>\n",
       "  <tbody>\n",
       "    <tr>\n",
       "      <th>0</th>\n",
       "      <td>2021-05-26 01:20:36</td>\n",
       "      <td>Michael🍉</td>\n",
       "      <td>加拿大-Cogeco</td>\n",
       "      <td>24.57.125.49</td>\n",
       "      <td>Apple-iPhone</td>\n",
       "    </tr>\n",
       "    <tr>\n",
       "      <th>1</th>\n",
       "      <td>2021-05-26 01:30:09</td>\n",
       "      <td>摩诘</td>\n",
       "      <td>北京市石景山区-联通</td>\n",
       "      <td>221.217.242.187</td>\n",
       "      <td>Apple-iPhone</td>\n",
       "    </tr>\n",
       "    <tr>\n",
       "      <th>2</th>\n",
       "      <td>2021-05-26 01:31:27</td>\n",
       "      <td>Nuyoah 🐾</td>\n",
       "      <td>加拿大- CZ88.NET</td>\n",
       "      <td>72.136.121.241</td>\n",
       "      <td>Apple-iPhone</td>\n",
       "    </tr>\n",
       "    <tr>\n",
       "      <th>3</th>\n",
       "      <td>2021-05-26 01:37:00</td>\n",
       "      <td>船长</td>\n",
       "      <td>加拿大-Cogeco</td>\n",
       "      <td>24.57.115.136</td>\n",
       "      <td>Huawei-</td>\n",
       "    </tr>\n",
       "    <tr>\n",
       "      <th>4</th>\n",
       "      <td>2021-05-26 01:37:04</td>\n",
       "      <td>柒芭酒🌙</td>\n",
       "      <td>加拿大-Cogeco</td>\n",
       "      <td>24.57.115.136</td>\n",
       "      <td>Apple-iPhone</td>\n",
       "    </tr>\n",
       "    <tr>\n",
       "      <th>5</th>\n",
       "      <td>2021-05-26 01:41:29</td>\n",
       "      <td>CandiceW💫</td>\n",
       "      <td>加拿大-Fredericton市</td>\n",
       "      <td>156.34.62.47</td>\n",
       "      <td>Apple-iPhone</td>\n",
       "    </tr>\n",
       "    <tr>\n",
       "      <th>6</th>\n",
       "      <td>2021-05-26 02:08:20</td>\n",
       "      <td>lll59</td>\n",
       "      <td>加拿大- CZ88.NET</td>\n",
       "      <td>76.64.117.115</td>\n",
       "      <td>Apple-iPhone</td>\n",
       "    </tr>\n",
       "    <tr>\n",
       "      <th>7</th>\n",
       "      <td>2021-05-26 02:28:49</td>\n",
       "      <td>🙃安楠</td>\n",
       "      <td>加拿大- CZ88.NET</td>\n",
       "      <td>174.91.175.113</td>\n",
       "      <td>Apple-iPhone</td>\n",
       "    </tr>\n",
       "    <tr>\n",
       "      <th>8</th>\n",
       "      <td>2021-05-26 02:33:10</td>\n",
       "      <td>WenH2O</td>\n",
       "      <td>加拿大-Shaw Communications Inc.</td>\n",
       "      <td>174.6.78.219</td>\n",
       "      <td>Apple-iPhone</td>\n",
       "    </tr>\n",
       "    <tr>\n",
       "      <th>9</th>\n",
       "      <td>2021-05-26 02:37:37</td>\n",
       "      <td>Hai</td>\n",
       "      <td>广东省深圳市-联通</td>\n",
       "      <td>112.97.56.61</td>\n",
       "      <td>Apple-iPhone</td>\n",
       "    </tr>\n",
       "  </tbody>\n",
       "</table>\n",
       "</div>"
      ],
      "text/plain": [
       "                   时间         投票用户                            地区  \\\n",
       "0 2021-05-26 01:20:36    Michael🍉                     加拿大-Cogeco   \n",
       "1 2021-05-26 01:30:09          摩诘                     北京市石景山区-联通   \n",
       "2 2021-05-26 01:31:27    Nuyoah 🐾                  加拿大- CZ88.NET   \n",
       "3 2021-05-26 01:37:00          船长                     加拿大-Cogeco   \n",
       "4 2021-05-26 01:37:04        柒芭酒🌙                     加拿大-Cogeco   \n",
       "5 2021-05-26 01:41:29   CandiceW💫               加拿大-Fredericton市   \n",
       "6 2021-05-26 02:08:20       lll59                  加拿大- CZ88.NET   \n",
       "7 2021-05-26 02:28:49         🙃安楠                  加拿大- CZ88.NET   \n",
       "8 2021-05-26 02:33:10      WenH2O   加拿大-Shaw Communications Inc.   \n",
       "9 2021-05-26 02:37:37         Hai                      广东省深圳市-联通   \n",
       "\n",
       "                IP            设备  \n",
       "0     24.57.125.49  Apple-iPhone  \n",
       "1  221.217.242.187  Apple-iPhone  \n",
       "2   72.136.121.241  Apple-iPhone  \n",
       "3    24.57.115.136       Huawei-  \n",
       "4    24.57.115.136  Apple-iPhone  \n",
       "5     156.34.62.47  Apple-iPhone  \n",
       "6    76.64.117.115  Apple-iPhone  \n",
       "7   174.91.175.113  Apple-iPhone  \n",
       "8     174.6.78.219  Apple-iPhone  \n",
       "9     112.97.56.61  Apple-iPhone  "
      ]
     },
     "execution_count": 4,
     "metadata": {},
     "output_type": "execute_result"
    }
   ],
   "source": [
    "df.head(10)"
   ]
  },
  {
   "cell_type": "markdown",
   "id": "f48afc74",
   "metadata": {},
   "source": [
    "## 查看一下重复投票的人"
   ]
  },
  {
   "cell_type": "code",
   "execution_count": 9,
   "id": "ef4ef46f",
   "metadata": {},
   "outputs": [],
   "source": [
    "count_user=pd.DataFrame(df.groupby('投票用户').size()).sort_values(by=0, ascending=False).reset_index()"
   ]
  },
  {
   "cell_type": "code",
   "execution_count": 12,
   "id": "d24e3993",
   "metadata": {},
   "outputs": [
    {
     "data": {
      "text/html": [
       "<div>\n",
       "<style scoped>\n",
       "    .dataframe tbody tr th:only-of-type {\n",
       "        vertical-align: middle;\n",
       "    }\n",
       "\n",
       "    .dataframe tbody tr th {\n",
       "        vertical-align: top;\n",
       "    }\n",
       "\n",
       "    .dataframe thead th {\n",
       "        text-align: right;\n",
       "    }\n",
       "</style>\n",
       "<table border=\"1\" class=\"dataframe\">\n",
       "  <thead>\n",
       "    <tr style=\"text-align: right;\">\n",
       "      <th></th>\n",
       "      <th>投票用户</th>\n",
       "      <th>0</th>\n",
       "    </tr>\n",
       "  </thead>\n",
       "  <tbody>\n",
       "    <tr>\n",
       "      <th>0</th>\n",
       "      <td>.</td>\n",
       "      <td>42</td>\n",
       "    </tr>\n",
       "    <tr>\n",
       "      <th>1</th>\n",
       "      <td>春暖花开</td>\n",
       "      <td>42</td>\n",
       "    </tr>\n",
       "    <tr>\n",
       "      <th>2</th>\n",
       "      <td>保存头像下载APP送888</td>\n",
       "      <td>25</td>\n",
       "    </tr>\n",
       "    <tr>\n",
       "      <th>3</th>\n",
       "      <td>ㅤ</td>\n",
       "      <td>12</td>\n",
       "    </tr>\n",
       "    <tr>\n",
       "      <th>4</th>\n",
       "      <td>ぶ牛仔↘酷</td>\n",
       "      <td>11</td>\n",
       "    </tr>\n",
       "    <tr>\n",
       "      <th>5</th>\n",
       "      <td>黑桃娱乐扫我</td>\n",
       "      <td>11</td>\n",
       "    </tr>\n",
       "    <tr>\n",
       "      <th>6</th>\n",
       "      <td>黑桃娱乐583点cc</td>\n",
       "      <td>10</td>\n",
       "    </tr>\n",
       "    <tr>\n",
       "      <th>7</th>\n",
       "      <td>看我头像黑桃</td>\n",
       "      <td>9</td>\n",
       "    </tr>\n",
       "    <tr>\n",
       "      <th>8</th>\n",
       "      <td>岑川</td>\n",
       "      <td>9</td>\n",
       "    </tr>\n",
       "    <tr>\n",
       "      <th>9</th>\n",
       "      <td>🐟</td>\n",
       "      <td>8</td>\n",
       "    </tr>\n",
       "    <tr>\n",
       "      <th>10</th>\n",
       "      <td>。</td>\n",
       "      <td>8</td>\n",
       "    </tr>\n",
       "    <tr>\n",
       "      <th>11</th>\n",
       "      <td>cxp</td>\n",
       "      <td>6</td>\n",
       "    </tr>\n",
       "    <tr>\n",
       "      <th>12</th>\n",
       "      <td>爱吃瞄的鱼</td>\n",
       "      <td>6</td>\n",
       "    </tr>\n",
       "    <tr>\n",
       "      <th>13</th>\n",
       "      <td>嘚瑟的小情绪ぃ</td>\n",
       "      <td>6</td>\n",
       "    </tr>\n",
       "    <tr>\n",
       "      <th>14</th>\n",
       "      <td>寸力</td>\n",
       "      <td>6</td>\n",
       "    </tr>\n",
       "    <tr>\n",
       "      <th>15</th>\n",
       "      <td>琪琪</td>\n",
       "      <td>6</td>\n",
       "    </tr>\n",
       "    <tr>\n",
       "      <th>16</th>\n",
       "      <td>借你一生</td>\n",
       "      <td>6</td>\n",
       "    </tr>\n",
       "    <tr>\n",
       "      <th>17</th>\n",
       "      <td>菱菱</td>\n",
       "      <td>5</td>\n",
       "    </tr>\n",
       "    <tr>\n",
       "      <th>18</th>\n",
       "      <td>扫我头像娱乐黑桃</td>\n",
       "      <td>5</td>\n",
       "    </tr>\n",
       "    <tr>\n",
       "      <th>19</th>\n",
       "      <td>扫我头像大富豪</td>\n",
       "      <td>5</td>\n",
       "    </tr>\n",
       "  </tbody>\n",
       "</table>\n",
       "</div>"
      ],
      "text/plain": [
       "               投票用户   0\n",
       "0                .   42\n",
       "1             春暖花开   42\n",
       "2    保存头像下载APP送888   25\n",
       "3                ㅤ   12\n",
       "4            ぶ牛仔↘酷   11\n",
       "5           黑桃娱乐扫我   11\n",
       "6       黑桃娱乐583点cc   10\n",
       "7           看我头像黑桃    9\n",
       "8               岑川    9\n",
       "9                🐟    8\n",
       "10               。    8\n",
       "11             cxp    6\n",
       "12           爱吃瞄的鱼    6\n",
       "13         嘚瑟的小情绪ぃ    6\n",
       "14              寸力    6\n",
       "15              琪琪    6\n",
       "16            借你一生    6\n",
       "17              菱菱    5\n",
       "18        扫我头像娱乐黑桃    5\n",
       "19         扫我头像大富豪    5"
      ]
     },
     "execution_count": 12,
     "metadata": {},
     "output_type": "execute_result"
    }
   ],
   "source": [
    "count_user[count_user[0]>1][:20]"
   ]
  },
  {
   "cell_type": "markdown",
   "id": "ce64a3a2",
   "metadata": {},
   "source": [
    "### 从上我们看出，有很多为“.”的微信人名，和春暖花开，还有一些奇怪的广告名字\n",
    "期间，一共活动周期为6天，同一个微信只能每天投一票.所以最多六票是正常，其余为微信名称重复的人，并不是同一个人。"
   ]
  },
  {
   "cell_type": "markdown",
   "id": "3ed9cc18",
   "metadata": {},
   "source": [
    "## 查看一下单独几个微信名投了几票"
   ]
  },
  {
   "cell_type": "code",
   "execution_count": 117,
   "id": "8e8ae200",
   "metadata": {},
   "outputs": [
    {
     "data": {
      "text/html": [
       "<div>\n",
       "<style scoped>\n",
       "    .dataframe tbody tr th:only-of-type {\n",
       "        vertical-align: middle;\n",
       "    }\n",
       "\n",
       "    .dataframe tbody tr th {\n",
       "        vertical-align: top;\n",
       "    }\n",
       "\n",
       "    .dataframe thead th {\n",
       "        text-align: right;\n",
       "    }\n",
       "</style>\n",
       "<table border=\"1\" class=\"dataframe\">\n",
       "  <thead>\n",
       "    <tr style=\"text-align: right;\">\n",
       "      <th></th>\n",
       "      <th>投票用户</th>\n",
       "      <th>0</th>\n",
       "    </tr>\n",
       "  </thead>\n",
       "  <tbody>\n",
       "  </tbody>\n",
       "</table>\n",
       "</div>"
      ],
      "text/plain": [
       "Empty DataFrame\n",
       "Columns: [投票用户, 0]\n",
       "Index: []"
      ]
     },
     "execution_count": 117,
     "metadata": {},
     "output_type": "execute_result"
    }
   ],
   "source": [
    "count_user[count_user['投票用户']==\" Vikki. \"]"
   ]
  },
  {
   "cell_type": "code",
   "execution_count": 13,
   "id": "182908bd",
   "metadata": {},
   "outputs": [
    {
     "data": {
      "text/html": [
       "<div>\n",
       "<style scoped>\n",
       "    .dataframe tbody tr th:only-of-type {\n",
       "        vertical-align: middle;\n",
       "    }\n",
       "\n",
       "    .dataframe tbody tr th {\n",
       "        vertical-align: top;\n",
       "    }\n",
       "\n",
       "    .dataframe thead th {\n",
       "        text-align: right;\n",
       "    }\n",
       "</style>\n",
       "<table border=\"1\" class=\"dataframe\">\n",
       "  <thead>\n",
       "    <tr style=\"text-align: right;\">\n",
       "      <th></th>\n",
       "      <th>投票用户</th>\n",
       "      <th>0</th>\n",
       "    </tr>\n",
       "  </thead>\n",
       "  <tbody>\n",
       "    <tr>\n",
       "      <th>118</th>\n",
       "      <td>Michael🍉</td>\n",
       "      <td>3</td>\n",
       "    </tr>\n",
       "  </tbody>\n",
       "</table>\n",
       "</div>"
      ],
      "text/plain": [
       "           投票用户  0\n",
       "118   Michael🍉   3"
      ]
     },
     "execution_count": 13,
     "metadata": {},
     "output_type": "execute_result"
    }
   ],
   "source": [
    "count_user[count_user['投票用户']==\" Michael🍉 \"]"
   ]
  },
  {
   "cell_type": "code",
   "execution_count": 14,
   "id": "9d2649a4",
   "metadata": {},
   "outputs": [
    {
     "data": {
      "text/html": [
       "<div>\n",
       "<style scoped>\n",
       "    .dataframe tbody tr th:only-of-type {\n",
       "        vertical-align: middle;\n",
       "    }\n",
       "\n",
       "    .dataframe tbody tr th {\n",
       "        vertical-align: top;\n",
       "    }\n",
       "\n",
       "    .dataframe thead th {\n",
       "        text-align: right;\n",
       "    }\n",
       "</style>\n",
       "<table border=\"1\" class=\"dataframe\">\n",
       "  <thead>\n",
       "    <tr style=\"text-align: right;\">\n",
       "      <th></th>\n",
       "      <th>投票用户</th>\n",
       "      <th>0</th>\n",
       "    </tr>\n",
       "  </thead>\n",
       "  <tbody>\n",
       "    <tr>\n",
       "      <th>156</th>\n",
       "      <td>Nuyoah 🐾</td>\n",
       "      <td>2</td>\n",
       "    </tr>\n",
       "  </tbody>\n",
       "</table>\n",
       "</div>"
      ],
      "text/plain": [
       "           投票用户  0\n",
       "156   Nuyoah 🐾   2"
      ]
     },
     "execution_count": 14,
     "metadata": {},
     "output_type": "execute_result"
    }
   ],
   "source": [
    "count_user[count_user['投票用户']==\" Nuyoah 🐾 \"]"
   ]
  },
  {
   "cell_type": "code",
   "execution_count": 15,
   "id": "c837231f",
   "metadata": {},
   "outputs": [
    {
     "data": {
      "text/html": [
       "<div>\n",
       "<style scoped>\n",
       "    .dataframe tbody tr th:only-of-type {\n",
       "        vertical-align: middle;\n",
       "    }\n",
       "\n",
       "    .dataframe tbody tr th {\n",
       "        vertical-align: top;\n",
       "    }\n",
       "\n",
       "    .dataframe thead th {\n",
       "        text-align: right;\n",
       "    }\n",
       "</style>\n",
       "<table border=\"1\" class=\"dataframe\">\n",
       "  <thead>\n",
       "    <tr style=\"text-align: right;\">\n",
       "      <th></th>\n",
       "      <th>投票用户</th>\n",
       "      <th>0</th>\n",
       "    </tr>\n",
       "  </thead>\n",
       "  <tbody>\n",
       "    <tr>\n",
       "      <th>14</th>\n",
       "      <td>寸力</td>\n",
       "      <td>6</td>\n",
       "    </tr>\n",
       "  </tbody>\n",
       "</table>\n",
       "</div>"
      ],
      "text/plain": [
       "    投票用户  0\n",
       "14   寸力   6"
      ]
     },
     "execution_count": 15,
     "metadata": {},
     "output_type": "execute_result"
    }
   ],
   "source": [
    "count_user[count_user['投票用户']==\" 寸力 \"]"
   ]
  },
  {
   "cell_type": "markdown",
   "id": "0955a4ad",
   "metadata": {},
   "source": [
    "Vikki.  没有投票\n",
    "男朋友投了2 票\n",
    "本人投了 2票\n",
    "寸力 6票"
   ]
  },
  {
   "cell_type": "markdown",
   "id": "de370946",
   "metadata": {},
   "source": [
    "### 从上我们看出，本人与其男友并不是特别热衷于此活动，但是臭臭主人其父亲大人非常热心"
   ]
  },
  {
   "cell_type": "markdown",
   "id": "221510b3",
   "metadata": {},
   "source": [
    "## 我们再看一下为其投票的人有多少是重复投票1次以上的"
   ]
  },
  {
   "cell_type": "code",
   "execution_count": 20,
   "id": "84895aeb",
   "metadata": {},
   "outputs": [
    {
     "data": {
      "text/plain": [
       "357"
      ]
     },
     "execution_count": 20,
     "metadata": {},
     "output_type": "execute_result"
    }
   ],
   "source": [
    "count_user[count_user[0]>1].shape[0]"
   ]
  },
  {
   "cell_type": "code",
   "execution_count": 21,
   "id": "25c6e831",
   "metadata": {},
   "outputs": [
    {
     "data": {
      "text/plain": [
       "5450"
      ]
     },
     "execution_count": 21,
     "metadata": {},
     "output_type": "execute_result"
    }
   ],
   "source": [
    "df.shape[0]"
   ]
  },
  {
   "cell_type": "code",
   "execution_count": 25,
   "id": "fbb77f2c",
   "metadata": {},
   "outputs": [],
   "source": [
    "from pyecharts.faker import Faker"
   ]
  },
  {
   "cell_type": "code",
   "execution_count": 29,
   "id": "36f59161",
   "metadata": {},
   "outputs": [
    {
     "data": {
      "text/plain": [
       "[['哈士奇', 82],\n",
       " ['萨摩耶', 40],\n",
       " ['泰迪', 87],\n",
       " ['金毛', 137],\n",
       " ['牧羊犬', 99],\n",
       " ['吉娃娃', 100],\n",
       " ['柯基', 91]]"
      ]
     },
     "execution_count": 29,
     "metadata": {},
     "output_type": "execute_result"
    }
   ],
   "source": [
    "[list(z) for z in zip(Faker.choose(), Faker.values())]"
   ]
  },
  {
   "cell_type": "code",
   "execution_count": 51,
   "id": "41d6ec2a",
   "metadata": {},
   "outputs": [],
   "source": [
    "c = (\n",
    "    Pie()\n",
    "    .add(\"\", [[\n",
    "        '重复投票的人数',\n",
    "        count_user[count_user[0]>1].shape[0]],\n",
    "        ['没有重复投票的人数',df.shape[0]-count_user[count_user[0]>1].shape[0]]],\n",
    "        center=[\"40%\", \"50%\"],)\n",
    "    .set_global_opts(\n",
    "        title_opts=opts.TitleOpts(title=\"重复人数投票占比\"),\n",
    "        legend_opts=opts.LegendOpts(type_=\"scroll\", pos_left=\"80%\", orient=\"vertical\"),\n",
    "                    )\n",
    "    .set_series_opts(label_opts=opts.LabelOpts(formatter=\"{b}: {c} ({d})%\"))\n",
    ")"
   ]
  },
  {
   "cell_type": "code",
   "execution_count": 52,
   "id": "645abd92",
   "metadata": {},
   "outputs": [
    {
     "data": {
      "text/html": [
       "\n",
       "<script>\n",
       "    require.config({\n",
       "        paths: {\n",
       "            'echarts':'https://assets.pyecharts.org/assets/echarts.min'\n",
       "        }\n",
       "    });\n",
       "</script>\n",
       "\n",
       "        <div id=\"e180ffde3ed04a27ac02ad4c16d8b57d\" style=\"width:900px; height:500px;\"></div>\n",
       "\n",
       "<script>\n",
       "        require(['echarts'], function(echarts) {\n",
       "                var chart_e180ffde3ed04a27ac02ad4c16d8b57d = echarts.init(\n",
       "                    document.getElementById('e180ffde3ed04a27ac02ad4c16d8b57d'), 'white', {renderer: 'canvas'});\n",
       "                var option_e180ffde3ed04a27ac02ad4c16d8b57d = {\n",
       "    \"animation\": true,\n",
       "    \"animationThreshold\": 2000,\n",
       "    \"animationDuration\": 1000,\n",
       "    \"animationEasing\": \"cubicOut\",\n",
       "    \"animationDelay\": 0,\n",
       "    \"animationDurationUpdate\": 300,\n",
       "    \"animationEasingUpdate\": \"cubicOut\",\n",
       "    \"animationDelayUpdate\": 0,\n",
       "    \"color\": [\n",
       "        \"#c23531\",\n",
       "        \"#2f4554\",\n",
       "        \"#61a0a8\",\n",
       "        \"#d48265\",\n",
       "        \"#749f83\",\n",
       "        \"#ca8622\",\n",
       "        \"#bda29a\",\n",
       "        \"#6e7074\",\n",
       "        \"#546570\",\n",
       "        \"#c4ccd3\",\n",
       "        \"#f05b72\",\n",
       "        \"#ef5b9c\",\n",
       "        \"#f47920\",\n",
       "        \"#905a3d\",\n",
       "        \"#fab27b\",\n",
       "        \"#2a5caa\",\n",
       "        \"#444693\",\n",
       "        \"#726930\",\n",
       "        \"#b2d235\",\n",
       "        \"#6d8346\",\n",
       "        \"#ac6767\",\n",
       "        \"#1d953f\",\n",
       "        \"#6950a1\",\n",
       "        \"#918597\"\n",
       "    ],\n",
       "    \"series\": [\n",
       "        {\n",
       "            \"type\": \"pie\",\n",
       "            \"clockwise\": true,\n",
       "            \"data\": [\n",
       "                {\n",
       "                    \"name\": \"\\u91cd\\u590d\\u6295\\u7968\\u7684\\u4eba\\u6570\",\n",
       "                    \"value\": 357\n",
       "                },\n",
       "                {\n",
       "                    \"name\": \"\\u6ca1\\u6709\\u91cd\\u590d\\u6295\\u7968\\u7684\\u4eba\\u6570\",\n",
       "                    \"value\": 5093\n",
       "                }\n",
       "            ],\n",
       "            \"radius\": [\n",
       "                \"0%\",\n",
       "                \"75%\"\n",
       "            ],\n",
       "            \"center\": [\n",
       "                \"40%\",\n",
       "                \"50%\"\n",
       "            ],\n",
       "            \"label\": {\n",
       "                \"show\": true,\n",
       "                \"position\": \"top\",\n",
       "                \"margin\": 8,\n",
       "                \"formatter\": \"{b}: {c} ({d})%\"\n",
       "            },\n",
       "            \"rippleEffect\": {\n",
       "                \"show\": true,\n",
       "                \"brushType\": \"stroke\",\n",
       "                \"scale\": 2.5,\n",
       "                \"period\": 4\n",
       "            }\n",
       "        }\n",
       "    ],\n",
       "    \"legend\": [\n",
       "        {\n",
       "            \"data\": [\n",
       "                \"\\u91cd\\u590d\\u6295\\u7968\\u7684\\u4eba\\u6570\",\n",
       "                \"\\u6ca1\\u6709\\u91cd\\u590d\\u6295\\u7968\\u7684\\u4eba\\u6570\"\n",
       "            ],\n",
       "            \"selected\": {},\n",
       "            \"type\": \"scroll\",\n",
       "            \"show\": true,\n",
       "            \"left\": \"80%\",\n",
       "            \"orient\": \"vertical\",\n",
       "            \"padding\": 5,\n",
       "            \"itemGap\": 10,\n",
       "            \"itemWidth\": 25,\n",
       "            \"itemHeight\": 14\n",
       "        }\n",
       "    ],\n",
       "    \"tooltip\": {\n",
       "        \"show\": true,\n",
       "        \"trigger\": \"item\",\n",
       "        \"triggerOn\": \"mousemove|click\",\n",
       "        \"axisPointer\": {\n",
       "            \"type\": \"line\"\n",
       "        },\n",
       "        \"showContent\": true,\n",
       "        \"alwaysShowContent\": false,\n",
       "        \"showDelay\": 0,\n",
       "        \"hideDelay\": 100,\n",
       "        \"textStyle\": {\n",
       "            \"fontSize\": 14\n",
       "        },\n",
       "        \"borderWidth\": 0,\n",
       "        \"padding\": 5\n",
       "    },\n",
       "    \"title\": [\n",
       "        {\n",
       "            \"text\": \"\\u91cd\\u590d\\u4eba\\u6570\\u6295\\u7968\\u5360\\u6bd4\",\n",
       "            \"padding\": 5,\n",
       "            \"itemGap\": 10\n",
       "        }\n",
       "    ]\n",
       "};\n",
       "                chart_e180ffde3ed04a27ac02ad4c16d8b57d.setOption(option_e180ffde3ed04a27ac02ad4c16d8b57d);\n",
       "        });\n",
       "    </script>\n"
      ],
      "text/plain": [
       "<pyecharts.render.display.HTML at 0x2ec591badf0>"
      ]
     },
     "execution_count": 52,
     "metadata": {},
     "output_type": "execute_result"
    }
   ],
   "source": [
    "c.render_notebook()"
   ]
  },
  {
   "cell_type": "code",
   "execution_count": 54,
   "id": "86f8458f",
   "metadata": {
    "scrolled": false
   },
   "outputs": [
    {
     "data": {
      "text/html": [
       "<div>\n",
       "<style scoped>\n",
       "    .dataframe tbody tr th:only-of-type {\n",
       "        vertical-align: middle;\n",
       "    }\n",
       "\n",
       "    .dataframe tbody tr th {\n",
       "        vertical-align: top;\n",
       "    }\n",
       "\n",
       "    .dataframe thead th {\n",
       "        text-align: right;\n",
       "    }\n",
       "</style>\n",
       "<table border=\"1\" class=\"dataframe\">\n",
       "  <thead>\n",
       "    <tr style=\"text-align: right;\">\n",
       "      <th></th>\n",
       "      <th>时间</th>\n",
       "      <th>投票用户</th>\n",
       "      <th>地区</th>\n",
       "      <th>IP</th>\n",
       "      <th>设备</th>\n",
       "      <th>电信公司</th>\n",
       "      <th>地理位置</th>\n",
       "    </tr>\n",
       "  </thead>\n",
       "  <tbody>\n",
       "    <tr>\n",
       "      <th>0</th>\n",
       "      <td>2021-05-26 01:20:36</td>\n",
       "      <td>Michael🍉</td>\n",
       "      <td>加拿大-Cogeco</td>\n",
       "      <td>24.57.125.49</td>\n",
       "      <td>Apple-iPhone</td>\n",
       "      <td>Cogeco</td>\n",
       "      <td>加拿大</td>\n",
       "    </tr>\n",
       "    <tr>\n",
       "      <th>1</th>\n",
       "      <td>2021-05-26 01:30:09</td>\n",
       "      <td>摩诘</td>\n",
       "      <td>北京市石景山区-联通</td>\n",
       "      <td>221.217.242.187</td>\n",
       "      <td>Apple-iPhone</td>\n",
       "      <td>联通</td>\n",
       "      <td>北京市石景山区</td>\n",
       "    </tr>\n",
       "    <tr>\n",
       "      <th>2</th>\n",
       "      <td>2021-05-26 01:31:27</td>\n",
       "      <td>Nuyoah 🐾</td>\n",
       "      <td>加拿大- CZ88.NET</td>\n",
       "      <td>72.136.121.241</td>\n",
       "      <td>Apple-iPhone</td>\n",
       "      <td>CZ88.NET</td>\n",
       "      <td>加拿大</td>\n",
       "    </tr>\n",
       "    <tr>\n",
       "      <th>3</th>\n",
       "      <td>2021-05-26 01:37:00</td>\n",
       "      <td>船长</td>\n",
       "      <td>加拿大-Cogeco</td>\n",
       "      <td>24.57.115.136</td>\n",
       "      <td>Huawei-</td>\n",
       "      <td>Cogeco</td>\n",
       "      <td>加拿大</td>\n",
       "    </tr>\n",
       "    <tr>\n",
       "      <th>4</th>\n",
       "      <td>2021-05-26 01:37:04</td>\n",
       "      <td>柒芭酒🌙</td>\n",
       "      <td>加拿大-Cogeco</td>\n",
       "      <td>24.57.115.136</td>\n",
       "      <td>Apple-iPhone</td>\n",
       "      <td>Cogeco</td>\n",
       "      <td>加拿大</td>\n",
       "    </tr>\n",
       "    <tr>\n",
       "      <th>5</th>\n",
       "      <td>2021-05-26 01:41:29</td>\n",
       "      <td>CandiceW💫</td>\n",
       "      <td>加拿大-Fredericton市</td>\n",
       "      <td>156.34.62.47</td>\n",
       "      <td>Apple-iPhone</td>\n",
       "      <td>Fredericton市</td>\n",
       "      <td>加拿大</td>\n",
       "    </tr>\n",
       "    <tr>\n",
       "      <th>6</th>\n",
       "      <td>2021-05-26 02:08:20</td>\n",
       "      <td>lll59</td>\n",
       "      <td>加拿大- CZ88.NET</td>\n",
       "      <td>76.64.117.115</td>\n",
       "      <td>Apple-iPhone</td>\n",
       "      <td>CZ88.NET</td>\n",
       "      <td>加拿大</td>\n",
       "    </tr>\n",
       "    <tr>\n",
       "      <th>7</th>\n",
       "      <td>2021-05-26 02:28:49</td>\n",
       "      <td>🙃安楠</td>\n",
       "      <td>加拿大- CZ88.NET</td>\n",
       "      <td>174.91.175.113</td>\n",
       "      <td>Apple-iPhone</td>\n",
       "      <td>CZ88.NET</td>\n",
       "      <td>加拿大</td>\n",
       "    </tr>\n",
       "    <tr>\n",
       "      <th>8</th>\n",
       "      <td>2021-05-26 02:33:10</td>\n",
       "      <td>WenH2O</td>\n",
       "      <td>加拿大-Shaw Communications Inc.</td>\n",
       "      <td>174.6.78.219</td>\n",
       "      <td>Apple-iPhone</td>\n",
       "      <td>Shaw Communications Inc.</td>\n",
       "      <td>加拿大</td>\n",
       "    </tr>\n",
       "    <tr>\n",
       "      <th>9</th>\n",
       "      <td>2021-05-26 02:37:37</td>\n",
       "      <td>Hai</td>\n",
       "      <td>广东省深圳市-联通</td>\n",
       "      <td>112.97.56.61</td>\n",
       "      <td>Apple-iPhone</td>\n",
       "      <td>联通</td>\n",
       "      <td>广东省深圳市</td>\n",
       "    </tr>\n",
       "    <tr>\n",
       "      <th>10</th>\n",
       "      <td>2021-05-26 02:38:49</td>\n",
       "      <td>ʚabbyɞ</td>\n",
       "      <td>加拿大- CZ88.NET</td>\n",
       "      <td>184.69.131.82</td>\n",
       "      <td>Apple-iPhone</td>\n",
       "      <td>CZ88.NET</td>\n",
       "      <td>加拿大</td>\n",
       "    </tr>\n",
       "    <tr>\n",
       "      <th>11</th>\n",
       "      <td>2021-05-26 02:40:16</td>\n",
       "      <td>小绿箩🌴🌴</td>\n",
       "      <td>加拿大- CZ88.NET</td>\n",
       "      <td>72.136.116.173</td>\n",
       "      <td>Apple-iPhone</td>\n",
       "      <td>CZ88.NET</td>\n",
       "      <td>加拿大</td>\n",
       "    </tr>\n",
       "    <tr>\n",
       "      <th>12</th>\n",
       "      <td>2021-05-26 03:02:41</td>\n",
       "      <td>周金鸣</td>\n",
       "      <td>加拿大-Bell</td>\n",
       "      <td>184.151.230.98</td>\n",
       "      <td>Apple-iPhone</td>\n",
       "      <td>Bell</td>\n",
       "      <td>加拿大</td>\n",
       "    </tr>\n",
       "    <tr>\n",
       "      <th>13</th>\n",
       "      <td>2021-05-26 03:15:22</td>\n",
       "      <td>卡布奇诺</td>\n",
       "      <td>加拿大-Bell</td>\n",
       "      <td>76.69.26.246</td>\n",
       "      <td>Apple-iPhone</td>\n",
       "      <td>Bell</td>\n",
       "      <td>加拿大</td>\n",
       "    </tr>\n",
       "    <tr>\n",
       "      <th>14</th>\n",
       "      <td>2021-05-26 03:21:37</td>\n",
       "      <td> Iris</td>\n",
       "      <td>新疆-移动</td>\n",
       "      <td>221.181.185.204</td>\n",
       "      <td>Apple-iPhone</td>\n",
       "      <td>移动</td>\n",
       "      <td>新疆</td>\n",
       "    </tr>\n",
       "    <tr>\n",
       "      <th>15</th>\n",
       "      <td>2021-05-26 03:42:46</td>\n",
       "      <td>Alex Meng</td>\n",
       "      <td>加拿大- CZ88.NET</td>\n",
       "      <td>159.2.164.130</td>\n",
       "      <td>Apple-iPhone</td>\n",
       "      <td>CZ88.NET</td>\n",
       "      <td>加拿大</td>\n",
       "    </tr>\n",
       "    <tr>\n",
       "      <th>16</th>\n",
       "      <td>2021-05-26 05:19:24</td>\n",
       "      <td>蒙古国海军司令</td>\n",
       "      <td>加拿大-Cogeco</td>\n",
       "      <td>24.57.125.49</td>\n",
       "      <td>Apple-iPhone</td>\n",
       "      <td>Cogeco</td>\n",
       "      <td>加拿大</td>\n",
       "    </tr>\n",
       "    <tr>\n",
       "      <th>17</th>\n",
       "      <td>2021-05-26 05:22:20</td>\n",
       "      <td>🥨🥨🥨边</td>\n",
       "      <td>美国- CZ88.NET</td>\n",
       "      <td>107.88.177.41</td>\n",
       "      <td>Apple-iPhone</td>\n",
       "      <td>CZ88.NET</td>\n",
       "      <td>美国</td>\n",
       "    </tr>\n",
       "    <tr>\n",
       "      <th>18</th>\n",
       "      <td>2021-05-26 05:50:37</td>\n",
       "      <td>浪裡小ʚGingerɞ</td>\n",
       "      <td>加拿大- CZ88.NET</td>\n",
       "      <td>75.155.232.46</td>\n",
       "      <td>Apple-iPhone</td>\n",
       "      <td>CZ88.NET</td>\n",
       "      <td>加拿大</td>\n",
       "    </tr>\n",
       "    <tr>\n",
       "      <th>19</th>\n",
       "      <td>2021-05-26 06:03:16</td>\n",
       "      <td>Yi晗</td>\n",
       "      <td>加拿大-Cogeco</td>\n",
       "      <td>24.57.68.254</td>\n",
       "      <td>Samsung-GALAXY S10</td>\n",
       "      <td>Cogeco</td>\n",
       "      <td>加拿大</td>\n",
       "    </tr>\n",
       "  </tbody>\n",
       "</table>\n",
       "</div>"
      ],
      "text/plain": [
       "                    时间           投票用户                            地区  \\\n",
       "0  2021-05-26 01:20:36      Michael🍉                     加拿大-Cogeco   \n",
       "1  2021-05-26 01:30:09            摩诘                     北京市石景山区-联通   \n",
       "2  2021-05-26 01:31:27      Nuyoah 🐾                  加拿大- CZ88.NET   \n",
       "3  2021-05-26 01:37:00            船长                     加拿大-Cogeco   \n",
       "4  2021-05-26 01:37:04          柒芭酒🌙                     加拿大-Cogeco   \n",
       "5  2021-05-26 01:41:29     CandiceW💫               加拿大-Fredericton市   \n",
       "6  2021-05-26 02:08:20         lll59                  加拿大- CZ88.NET   \n",
       "7  2021-05-26 02:28:49           🙃安楠                  加拿大- CZ88.NET   \n",
       "8  2021-05-26 02:33:10        WenH2O   加拿大-Shaw Communications Inc.   \n",
       "9  2021-05-26 02:37:37           Hai                      广东省深圳市-联通   \n",
       "10 2021-05-26 02:38:49        ʚabbyɞ                  加拿大- CZ88.NET   \n",
       "11 2021-05-26 02:40:16         小绿箩🌴🌴                  加拿大- CZ88.NET   \n",
       "12 2021-05-26 03:02:41           周金鸣                       加拿大-Bell   \n",
       "13 2021-05-26 03:15:22          卡布奇诺                       加拿大-Bell   \n",
       "14 2021-05-26 03:21:37         Iris                          新疆-移动   \n",
       "15 2021-05-26 03:42:46     Alex Meng                  加拿大- CZ88.NET   \n",
       "16 2021-05-26 05:19:24       蒙古国海军司令                     加拿大-Cogeco   \n",
       "17 2021-05-26 05:22:20          🥨🥨🥨边                   美国- CZ88.NET   \n",
       "18 2021-05-26 05:50:37   浪裡小ʚGingerɞ                  加拿大- CZ88.NET   \n",
       "19 2021-05-26 06:03:16           Yi晗                     加拿大-Cogeco   \n",
       "\n",
       "                 IP                  设备                      电信公司     地理位置  \n",
       "0      24.57.125.49        Apple-iPhone                    Cogeco      加拿大  \n",
       "1   221.217.242.187        Apple-iPhone                        联通  北京市石景山区  \n",
       "2    72.136.121.241        Apple-iPhone                  CZ88.NET      加拿大  \n",
       "3     24.57.115.136             Huawei-                    Cogeco      加拿大  \n",
       "4     24.57.115.136        Apple-iPhone                    Cogeco      加拿大  \n",
       "5      156.34.62.47        Apple-iPhone              Fredericton市      加拿大  \n",
       "6     76.64.117.115        Apple-iPhone                  CZ88.NET      加拿大  \n",
       "7    174.91.175.113        Apple-iPhone                  CZ88.NET      加拿大  \n",
       "8      174.6.78.219        Apple-iPhone  Shaw Communications Inc.      加拿大  \n",
       "9      112.97.56.61        Apple-iPhone                        联通   广东省深圳市  \n",
       "10    184.69.131.82        Apple-iPhone                  CZ88.NET      加拿大  \n",
       "11   72.136.116.173        Apple-iPhone                  CZ88.NET      加拿大  \n",
       "12   184.151.230.98        Apple-iPhone                      Bell      加拿大  \n",
       "13     76.69.26.246        Apple-iPhone                      Bell      加拿大  \n",
       "14  221.181.185.204        Apple-iPhone                        移动       新疆  \n",
       "15    159.2.164.130        Apple-iPhone                  CZ88.NET      加拿大  \n",
       "16     24.57.125.49        Apple-iPhone                    Cogeco      加拿大  \n",
       "17    107.88.177.41        Apple-iPhone                  CZ88.NET       美国  \n",
       "18    75.155.232.46        Apple-iPhone                  CZ88.NET      加拿大  \n",
       "19     24.57.68.254  Samsung-GALAXY S10                    Cogeco      加拿大  "
      ]
     },
     "execution_count": 54,
     "metadata": {},
     "output_type": "execute_result"
    }
   ],
   "source": [
    "df.head(20)"
   ]
  },
  {
   "cell_type": "code",
   "execution_count": null,
   "id": "b5f5bfbd",
   "metadata": {},
   "outputs": [],
   "source": []
  },
  {
   "cell_type": "code",
   "execution_count": 113,
   "id": "e42f316d",
   "metadata": {},
   "outputs": [],
   "source": [
    "武汉_count=0\n",
    "def 武汉(x):\n",
    "    global 武汉_count\n",
    "    if \"武汉\" in str(x):\n",
    "        武汉_count+=1\n",
    "df['地区'].map(lambda x :武汉(x));"
   ]
  },
  {
   "cell_type": "code",
   "execution_count": 114,
   "id": "b20719be",
   "metadata": {},
   "outputs": [
    {
     "data": {
      "text/plain": [
       "21"
      ]
     },
     "execution_count": 114,
     "metadata": {},
     "output_type": "execute_result"
    }
   ],
   "source": [
    "武汉_count"
   ]
  },
  {
   "cell_type": "code",
   "execution_count": 115,
   "id": "83c8718c",
   "metadata": {},
   "outputs": [],
   "source": [
    "新疆_count=0\n",
    "def 新疆(x):\n",
    "    global 新疆_count\n",
    "    if \"新疆\" in str(x):\n",
    "        新疆_count+=1\n",
    "df['地区'].map(lambda x :新疆(x));"
   ]
  },
  {
   "cell_type": "code",
   "execution_count": 116,
   "id": "0a0ac5b6",
   "metadata": {},
   "outputs": [
    {
     "data": {
      "text/plain": [
       "142"
      ]
     },
     "execution_count": 116,
     "metadata": {},
     "output_type": "execute_result"
    }
   ],
   "source": [
    "新疆_count"
   ]
  },
  {
   "cell_type": "code",
   "execution_count": 118,
   "id": "39e3298c",
   "metadata": {},
   "outputs": [],
   "source": [
    "vikki_count=0\n",
    "def vikki(x):\n",
    "    global vikki_count\n",
    "    if \"Vikki\" in str(x):\n",
    "        武汉_count+=1\n",
    "df['投票用户'].map(lambda x :vikki(x));"
   ]
  },
  {
   "cell_type": "code",
   "execution_count": 119,
   "id": "70cc8f42",
   "metadata": {},
   "outputs": [
    {
     "data": {
      "text/plain": [
       "0"
      ]
     },
     "execution_count": 119,
     "metadata": {},
     "output_type": "execute_result"
    }
   ],
   "source": [
    "vikki_count"
   ]
  },
  {
   "cell_type": "code",
   "execution_count": 128,
   "id": "000bb817",
   "metadata": {},
   "outputs": [
    {
     "data": {
      "text/plain": [
       "6"
      ]
     },
     "execution_count": 128,
     "metadata": {},
     "output_type": "execute_result"
    }
   ],
   "source": [
    "count_=0\n",
    "def count___(x):\n",
    "    global count_\n",
    "    if \"寸力\" in str(x):\n",
    "        count_+=1\n",
    "df['投票用户'].map(lambda x :count___(x));\n",
    "count_"
   ]
  },
  {
   "cell_type": "code",
   "execution_count": null,
   "id": "b34d9fdf",
   "metadata": {},
   "outputs": [],
   "source": []
  }
 ],
 "metadata": {
  "kernelspec": {
   "display_name": "Python 3",
   "language": "python",
   "name": "python3"
  },
  "language_info": {
   "codemirror_mode": {
    "name": "ipython",
    "version": 3
   },
   "file_extension": ".py",
   "mimetype": "text/x-python",
   "name": "python",
   "nbconvert_exporter": "python",
   "pygments_lexer": "ipython3",
   "version": "3.8.8"
  }
 },
 "nbformat": 4,
 "nbformat_minor": 5
}
